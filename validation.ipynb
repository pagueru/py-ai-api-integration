{
 "cells": [
  {
   "cell_type": "code",
   "execution_count": 14,
   "id": "5bbe2cb2",
   "metadata": {},
   "outputs": [],
   "source": [
    "from pathlib import Path\n",
    "import sys\n",
    "\n",
    "# Adiciona o diretório raiz do projeto ao sys.path\n",
    "# sys.path.append(str(Path.cwd().parent))"
   ]
  },
  {
   "cell_type": "code",
   "execution_count": null,
   "id": "e14d5a09",
   "metadata": {},
   "outputs": [],
   "source": [
    "from repositories.ai_repository import AiRespository"
   ]
  },
  {
   "cell_type": "code",
   "execution_count": null,
   "id": "a2c512a6",
   "metadata": {},
   "outputs": [
    {
     "name": "stderr",
     "output_type": "stream",
     "text": [
      "2025-06-03 19:07:44 - main:087 - INFO - Obtendo chave da API a partir das variáveis de ambiente.\n",
      "2025-06-03 19:07:44 - main:093 - INFO - Chave da API 'DEEPSEEK_API_KEY' obtida com sucesso.\n",
      "2025-06-03 19:07:44 - sqlite_repository:085 - INFO - Tabela e índices criados com sucesso.\n",
      "2025-06-03 19:07:44 - main:191 - INFO - Iniciando execução do programa.\n",
      "2025-06-03 19:07:44 - main:098 - INFO - Criando payload para o prompt.\n",
      "2025-06-03 19:07:44 - main:122 - INFO - Enviando requisição para a API: 'Https://api.deepseek.com/v1/chat/completions'.\n",
      "2025-06-03 19:07:48 - main:126 - INFO - Resposta recebida com sucesso.\n",
      "2025-06-03 19:07:48 - main:195 - INFO - Exibindo resultado da API.\n"
     ]
    },
    {
     "ename": "RecursionError",
     "evalue": "maximum recursion depth exceeded",
     "output_type": "error",
     "traceback": [
      "\u001b[31m---------------------------------------------------------------------------\u001b[39m",
      "\u001b[31mRecursionError\u001b[39m                            Traceback (most recent call last)",
      "\u001b[36mCell\u001b[39m\u001b[36m \u001b[39m\u001b[32mIn[13]\u001b[39m\u001b[32m, line 2\u001b[39m\n\u001b[32m      1\u001b[39m deepseek_app = LLMApiClient(prompt=\u001b[33m\"\u001b[39m\u001b[33mQual é a capital do Brasil?\u001b[39m\u001b[33m\"\u001b[39m)\n\u001b[32m----> \u001b[39m\u001b[32m2\u001b[39m \u001b[43mdeepseek_app\u001b[49m\u001b[43m.\u001b[49m\u001b[43mrun\u001b[49m\u001b[43m(\u001b[49m\u001b[43m)\u001b[49m\n",
      "\u001b[36mFile \u001b[39m\u001b[32mc:\\Users\\rapha\\Documents\\GitHub\\py-ai-api-integration\\main.py:199\u001b[39m, in \u001b[36mLLMApiClient.run\u001b[39m\u001b[34m(self, custom_prompt)\u001b[39m\n\u001b[32m    197\u001b[39m \u001b[38;5;66;03m# Persistência do uso, se resposta válida\u001b[39;00m\n\u001b[32m    198\u001b[39m \u001b[38;5;28;01mif\u001b[39;00m \u001b[33m\"\u001b[39m\u001b[33mid\u001b[39m\u001b[33m\"\u001b[39m \u001b[38;5;129;01min\u001b[39;00m result \u001b[38;5;129;01mand\u001b[39;00m \u001b[33m\"\u001b[39m\u001b[33musage\u001b[39m\u001b[33m\"\u001b[39m \u001b[38;5;129;01min\u001b[39;00m result \u001b[38;5;129;01mand\u001b[39;00m \u001b[33m\"\u001b[39m\u001b[33mchoices\u001b[39m\u001b[33m\"\u001b[39m \u001b[38;5;129;01min\u001b[39;00m result:\n\u001b[32m--> \u001b[39m\u001b[32m199\u001b[39m     record = \u001b[38;5;28;43mself\u001b[39;49m\u001b[43m.\u001b[49m\u001b[43mjson_to_usage_record\u001b[49m\u001b[43m(\u001b[49m\u001b[43mresult\u001b[49m\u001b[43m)\u001b[49m\n\u001b[32m    200\u001b[39m     \u001b[38;5;28mself\u001b[39m.repo.insert_usage(record)\n\u001b[32m    201\u001b[39m \u001b[38;5;28;01melse\u001b[39;00m:\n",
      "\u001b[36mFile \u001b[39m\u001b[32mc:\\Users\\rapha\\Documents\\GitHub\\py-ai-api-integration\\main.py:157\u001b[39m, in \u001b[36mLLMApiClient.json_to_usage_record\u001b[39m\u001b[34m(self, result)\u001b[39m\n\u001b[32m    155\u001b[39m \u001b[38;5;250m\u001b[39m\u001b[33;03m\"\"\"Converte o dicionário de resposta da API em um objeto UsageRecord.\"\"\"\u001b[39;00m\n\u001b[32m    156\u001b[39m \u001b[38;5;28;01mif\u001b[39;00m \u001b[33m\"\u001b[39m\u001b[33mid\u001b[39m\u001b[33m\"\u001b[39m \u001b[38;5;129;01min\u001b[39;00m result \u001b[38;5;129;01mand\u001b[39;00m \u001b[33m\"\u001b[39m\u001b[33musage\u001b[39m\u001b[33m\"\u001b[39m \u001b[38;5;129;01min\u001b[39;00m result \u001b[38;5;129;01mand\u001b[39;00m \u001b[33m\"\u001b[39m\u001b[33mchoices\u001b[39m\u001b[33m\"\u001b[39m \u001b[38;5;129;01min\u001b[39;00m result:\n\u001b[32m--> \u001b[39m\u001b[32m157\u001b[39m     record = \u001b[38;5;28;43mself\u001b[39;49m\u001b[43m.\u001b[49m\u001b[43mjson_to_usage_record\u001b[49m\u001b[43m(\u001b[49m\u001b[43mresult\u001b[49m\u001b[43m)\u001b[49m\n\u001b[32m    158\u001b[39m     \u001b[38;5;28mself\u001b[39m.repo.insert_usage(record)\n\u001b[32m    159\u001b[39m \u001b[38;5;28;01melse\u001b[39;00m:\n",
      "\u001b[36mFile \u001b[39m\u001b[32mc:\\Users\\rapha\\Documents\\GitHub\\py-ai-api-integration\\main.py:157\u001b[39m, in \u001b[36mLLMApiClient.json_to_usage_record\u001b[39m\u001b[34m(self, result)\u001b[39m\n\u001b[32m    155\u001b[39m \u001b[38;5;250m\u001b[39m\u001b[33;03m\"\"\"Converte o dicionário de resposta da API em um objeto UsageRecord.\"\"\"\u001b[39;00m\n\u001b[32m    156\u001b[39m \u001b[38;5;28;01mif\u001b[39;00m \u001b[33m\"\u001b[39m\u001b[33mid\u001b[39m\u001b[33m\"\u001b[39m \u001b[38;5;129;01min\u001b[39;00m result \u001b[38;5;129;01mand\u001b[39;00m \u001b[33m\"\u001b[39m\u001b[33musage\u001b[39m\u001b[33m\"\u001b[39m \u001b[38;5;129;01min\u001b[39;00m result \u001b[38;5;129;01mand\u001b[39;00m \u001b[33m\"\u001b[39m\u001b[33mchoices\u001b[39m\u001b[33m\"\u001b[39m \u001b[38;5;129;01min\u001b[39;00m result:\n\u001b[32m--> \u001b[39m\u001b[32m157\u001b[39m     record = \u001b[38;5;28;43mself\u001b[39;49m\u001b[43m.\u001b[49m\u001b[43mjson_to_usage_record\u001b[49m\u001b[43m(\u001b[49m\u001b[43mresult\u001b[49m\u001b[43m)\u001b[49m\n\u001b[32m    158\u001b[39m     \u001b[38;5;28mself\u001b[39m.repo.insert_usage(record)\n\u001b[32m    159\u001b[39m \u001b[38;5;28;01melse\u001b[39;00m:\n",
      "    \u001b[31m[... skipping similar frames: LLMApiClient.json_to_usage_record at line 157 (2973 times)]\u001b[39m\n",
      "\u001b[36mFile \u001b[39m\u001b[32mc:\\Users\\rapha\\Documents\\GitHub\\py-ai-api-integration\\main.py:157\u001b[39m, in \u001b[36mLLMApiClient.json_to_usage_record\u001b[39m\u001b[34m(self, result)\u001b[39m\n\u001b[32m    155\u001b[39m \u001b[38;5;250m\u001b[39m\u001b[33;03m\"\"\"Converte o dicionário de resposta da API em um objeto UsageRecord.\"\"\"\u001b[39;00m\n\u001b[32m    156\u001b[39m \u001b[38;5;28;01mif\u001b[39;00m \u001b[33m\"\u001b[39m\u001b[33mid\u001b[39m\u001b[33m\"\u001b[39m \u001b[38;5;129;01min\u001b[39;00m result \u001b[38;5;129;01mand\u001b[39;00m \u001b[33m\"\u001b[39m\u001b[33musage\u001b[39m\u001b[33m\"\u001b[39m \u001b[38;5;129;01min\u001b[39;00m result \u001b[38;5;129;01mand\u001b[39;00m \u001b[33m\"\u001b[39m\u001b[33mchoices\u001b[39m\u001b[33m\"\u001b[39m \u001b[38;5;129;01min\u001b[39;00m result:\n\u001b[32m--> \u001b[39m\u001b[32m157\u001b[39m     record = \u001b[38;5;28;43mself\u001b[39;49m\u001b[43m.\u001b[49m\u001b[43mjson_to_usage_record\u001b[49m\u001b[43m(\u001b[49m\u001b[43mresult\u001b[49m\u001b[43m)\u001b[49m\n\u001b[32m    158\u001b[39m     \u001b[38;5;28mself\u001b[39m.repo.insert_usage(record)\n\u001b[32m    159\u001b[39m \u001b[38;5;28;01melse\u001b[39;00m:\n",
      "\u001b[31mRecursionError\u001b[39m: maximum recursion depth exceeded"
     ]
    }
   ],
   "source": [
    "deepseek_app = AiRespository(prompt=\"Qual é a capital do Brasil?\")\n",
    "deepseek_app.run()"
   ]
  }
 ],
 "metadata": {
  "kernelspec": {
   "display_name": ".venv",
   "language": "python",
   "name": "python3"
  },
  "language_info": {
   "codemirror_mode": {
    "name": "ipython",
    "version": 3
   },
   "file_extension": ".py",
   "mimetype": "text/x-python",
   "name": "python",
   "nbconvert_exporter": "python",
   "pygments_lexer": "ipython3",
   "version": "3.13.2"
  }
 },
 "nbformat": 4,
 "nbformat_minor": 5
}
